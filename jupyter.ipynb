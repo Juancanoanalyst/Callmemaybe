{
 "cells": [
  {
   "cell_type": "markdown",
   "id": "c0d0b6ee",
   "metadata": {},
   "source": [
    "# PROYECTO TELECOMUNICACIONES"
   ]
  },
  {
   "cell_type": "markdown",
   "id": "06e40656",
   "metadata": {},
   "source": [
    "https://drive.google.com/drive/folders/1BJFEyTlUUjf_oc716SupOxZdiSpTIcPl?usp=drive_link\n",
    "\n",
    "Link carpeta drive"
   ]
  },
  {
   "cell_type": "code",
   "execution_count": 1,
   "id": "d85f5f53",
   "metadata": {},
   "outputs": [],
   "source": [
    "from myfunctions import * #trae las funciones desde mi python\n",
    "import pandas as pd #convertir los archivos de entrada a dataframe"
   ]
  },
  {
   "cell_type": "code",
   "execution_count": 2,
   "id": "fa7642d9",
   "metadata": {},
   "outputs": [],
   "source": [
    "ds = pd.read_csv(\"datasets/telecom_dataset_us.csv\")\n",
    "client = pd.read_csv(\"datasets/telecom_clients_us.csv\")"
   ]
  },
  {
   "cell_type": "markdown",
   "id": "852d7595",
   "metadata": {},
   "source": [
    "## EDA"
   ]
  },
  {
   "cell_type": "markdown",
   "id": "a1705277",
   "metadata": {},
   "source": [
    "### Observaciones iniciales"
   ]
  },
  {
   "cell_type": "code",
   "execution_count": 3,
   "id": "42b30c5e",
   "metadata": {},
   "outputs": [
    {
     "data": {
      "text/html": [
       "<div>\n",
       "<style scoped>\n",
       "    .dataframe tbody tr th:only-of-type {\n",
       "        vertical-align: middle;\n",
       "    }\n",
       "\n",
       "    .dataframe tbody tr th {\n",
       "        vertical-align: top;\n",
       "    }\n",
       "\n",
       "    .dataframe thead th {\n",
       "        text-align: right;\n",
       "    }\n",
       "</style>\n",
       "<table border=\"1\" class=\"dataframe\">\n",
       "  <thead>\n",
       "    <tr style=\"text-align: right;\">\n",
       "      <th></th>\n",
       "      <th>user_id</th>\n",
       "      <th>tariff_plan</th>\n",
       "      <th>date_start</th>\n",
       "    </tr>\n",
       "  </thead>\n",
       "  <tbody>\n",
       "    <tr>\n",
       "      <th>0</th>\n",
       "      <td>166713</td>\n",
       "      <td>A</td>\n",
       "      <td>2019-08-15</td>\n",
       "    </tr>\n",
       "    <tr>\n",
       "      <th>1</th>\n",
       "      <td>166901</td>\n",
       "      <td>A</td>\n",
       "      <td>2019-08-23</td>\n",
       "    </tr>\n",
       "    <tr>\n",
       "      <th>2</th>\n",
       "      <td>168527</td>\n",
       "      <td>A</td>\n",
       "      <td>2019-10-29</td>\n",
       "    </tr>\n",
       "    <tr>\n",
       "      <th>3</th>\n",
       "      <td>167097</td>\n",
       "      <td>A</td>\n",
       "      <td>2019-09-01</td>\n",
       "    </tr>\n",
       "    <tr>\n",
       "      <th>4</th>\n",
       "      <td>168193</td>\n",
       "      <td>A</td>\n",
       "      <td>2019-10-16</td>\n",
       "    </tr>\n",
       "  </tbody>\n",
       "</table>\n",
       "</div>"
      ],
      "text/plain": [
       "   user_id tariff_plan  date_start\n",
       "0   166713           A  2019-08-15\n",
       "1   166901           A  2019-08-23\n",
       "2   168527           A  2019-10-29\n",
       "3   167097           A  2019-09-01\n",
       "4   168193           A  2019-10-16"
      ]
     },
     "execution_count": 3,
     "metadata": {},
     "output_type": "execute_result"
    }
   ],
   "source": [
    "# Ver primeras filas de los datasets \n",
    "client.head()"
   ]
  },
  {
   "cell_type": "code",
   "execution_count": 4,
   "id": "b2348920",
   "metadata": {},
   "outputs": [
    {
     "data": {
      "text/html": [
       "<div>\n",
       "<style scoped>\n",
       "    .dataframe tbody tr th:only-of-type {\n",
       "        vertical-align: middle;\n",
       "    }\n",
       "\n",
       "    .dataframe tbody tr th {\n",
       "        vertical-align: top;\n",
       "    }\n",
       "\n",
       "    .dataframe thead th {\n",
       "        text-align: right;\n",
       "    }\n",
       "</style>\n",
       "<table border=\"1\" class=\"dataframe\">\n",
       "  <thead>\n",
       "    <tr style=\"text-align: right;\">\n",
       "      <th></th>\n",
       "      <th>user_id</th>\n",
       "      <th>date</th>\n",
       "      <th>direction</th>\n",
       "      <th>internal</th>\n",
       "      <th>operator_id</th>\n",
       "      <th>is_missed_call</th>\n",
       "      <th>calls_count</th>\n",
       "      <th>call_duration</th>\n",
       "      <th>total_call_duration</th>\n",
       "    </tr>\n",
       "  </thead>\n",
       "  <tbody>\n",
       "    <tr>\n",
       "      <th>0</th>\n",
       "      <td>166377</td>\n",
       "      <td>2019-08-04 00:00:00+03:00</td>\n",
       "      <td>in</td>\n",
       "      <td>False</td>\n",
       "      <td>NaN</td>\n",
       "      <td>True</td>\n",
       "      <td>2</td>\n",
       "      <td>0</td>\n",
       "      <td>4</td>\n",
       "    </tr>\n",
       "    <tr>\n",
       "      <th>1</th>\n",
       "      <td>166377</td>\n",
       "      <td>2019-08-05 00:00:00+03:00</td>\n",
       "      <td>out</td>\n",
       "      <td>True</td>\n",
       "      <td>880022.0</td>\n",
       "      <td>True</td>\n",
       "      <td>3</td>\n",
       "      <td>0</td>\n",
       "      <td>5</td>\n",
       "    </tr>\n",
       "    <tr>\n",
       "      <th>2</th>\n",
       "      <td>166377</td>\n",
       "      <td>2019-08-05 00:00:00+03:00</td>\n",
       "      <td>out</td>\n",
       "      <td>True</td>\n",
       "      <td>880020.0</td>\n",
       "      <td>True</td>\n",
       "      <td>1</td>\n",
       "      <td>0</td>\n",
       "      <td>1</td>\n",
       "    </tr>\n",
       "    <tr>\n",
       "      <th>3</th>\n",
       "      <td>166377</td>\n",
       "      <td>2019-08-05 00:00:00+03:00</td>\n",
       "      <td>out</td>\n",
       "      <td>True</td>\n",
       "      <td>880020.0</td>\n",
       "      <td>False</td>\n",
       "      <td>1</td>\n",
       "      <td>10</td>\n",
       "      <td>18</td>\n",
       "    </tr>\n",
       "    <tr>\n",
       "      <th>4</th>\n",
       "      <td>166377</td>\n",
       "      <td>2019-08-05 00:00:00+03:00</td>\n",
       "      <td>out</td>\n",
       "      <td>False</td>\n",
       "      <td>880022.0</td>\n",
       "      <td>True</td>\n",
       "      <td>3</td>\n",
       "      <td>0</td>\n",
       "      <td>25</td>\n",
       "    </tr>\n",
       "  </tbody>\n",
       "</table>\n",
       "</div>"
      ],
      "text/plain": [
       "   user_id                       date direction internal  operator_id  \\\n",
       "0   166377  2019-08-04 00:00:00+03:00        in    False          NaN   \n",
       "1   166377  2019-08-05 00:00:00+03:00       out     True     880022.0   \n",
       "2   166377  2019-08-05 00:00:00+03:00       out     True     880020.0   \n",
       "3   166377  2019-08-05 00:00:00+03:00       out     True     880020.0   \n",
       "4   166377  2019-08-05 00:00:00+03:00       out    False     880022.0   \n",
       "\n",
       "   is_missed_call  calls_count  call_duration  total_call_duration  \n",
       "0            True            2              0                    4  \n",
       "1            True            3              0                    5  \n",
       "2            True            1              0                    1  \n",
       "3           False            1             10                   18  \n",
       "4            True            3              0                   25  "
      ]
     },
     "execution_count": 4,
     "metadata": {},
     "output_type": "execute_result"
    }
   ],
   "source": [
    "ds.head()"
   ]
  },
  {
   "cell_type": "markdown",
   "id": "5ae48858",
   "metadata": {},
   "source": [
    "Esta primera inspeccion nos permite comprobar si la informacion tecnica suministrada es correcta , y se comprueba que todo esta en orden como punto a mejorar se evidencia que no especifican las unidades de tiempo en las cuales miden las llamadas se presupone que están en minutos."
   ]
  },
  {
   "cell_type": "markdown",
   "id": "700668a3",
   "metadata": {},
   "source": [
    "En teoria contamos con 731 clientes y dentro de la informacion de los mismos no encontramos valores nulos , procedemos a comprobar si hay repetidos y a cambiar la columna de date_start de objet a time y el user_id de entero a object dado que no es un valor cuantitaivo sino que obedece a una aignacion fija del cliente."
   ]
  },
  {
   "cell_type": "code",
   "execution_count": 5,
   "id": "674fd26f",
   "metadata": {},
   "outputs": [
    {
     "name": "stdout",
     "output_type": "stream",
     "text": [
      "<class 'pandas.core.frame.DataFrame'>\n",
      "RangeIndex: 732 entries, 0 to 731\n",
      "Data columns (total 3 columns):\n",
      " #   Column       Non-Null Count  Dtype \n",
      "---  ------       --------------  ----- \n",
      " 0   user_id      732 non-null    int64 \n",
      " 1   tariff_plan  732 non-null    object\n",
      " 2   date_start   732 non-null    object\n",
      "dtypes: int64(1), object(2)\n",
      "memory usage: 17.3+ KB\n"
     ]
    }
   ],
   "source": [
    "client.info()"
   ]
  },
  {
   "cell_type": "code",
   "execution_count": 6,
   "id": "83602afd",
   "metadata": {},
   "outputs": [
    {
     "name": "stdout",
     "output_type": "stream",
     "text": [
      "<class 'pandas.core.frame.DataFrame'>\n",
      "RangeIndex: 53902 entries, 0 to 53901\n",
      "Data columns (total 9 columns):\n",
      " #   Column               Non-Null Count  Dtype  \n",
      "---  ------               --------------  -----  \n",
      " 0   user_id              53902 non-null  int64  \n",
      " 1   date                 53902 non-null  object \n",
      " 2   direction            53902 non-null  object \n",
      " 3   internal             53785 non-null  object \n",
      " 4   operator_id          45730 non-null  float64\n",
      " 5   is_missed_call       53902 non-null  bool   \n",
      " 6   calls_count          53902 non-null  int64  \n",
      " 7   call_duration        53902 non-null  int64  \n",
      " 8   total_call_duration  53902 non-null  int64  \n",
      "dtypes: bool(1), float64(1), int64(4), object(3)\n",
      "memory usage: 3.3+ MB\n"
     ]
    }
   ],
   "source": [
    "ds.info()"
   ]
  },
  {
   "cell_type": "code",
   "execution_count": 7,
   "id": "9e40bb8e",
   "metadata": {},
   "outputs": [
    {
     "data": {
      "text/html": [
       "<div>\n",
       "<style scoped>\n",
       "    .dataframe tbody tr th:only-of-type {\n",
       "        vertical-align: middle;\n",
       "    }\n",
       "\n",
       "    .dataframe tbody tr th {\n",
       "        vertical-align: top;\n",
       "    }\n",
       "\n",
       "    .dataframe thead th {\n",
       "        text-align: right;\n",
       "    }\n",
       "</style>\n",
       "<table border=\"1\" class=\"dataframe\">\n",
       "  <thead>\n",
       "    <tr style=\"text-align: right;\">\n",
       "      <th></th>\n",
       "      <th>user_id</th>\n",
       "      <th>date</th>\n",
       "      <th>direction</th>\n",
       "      <th>internal</th>\n",
       "      <th>operator_id</th>\n",
       "      <th>is_missed_call</th>\n",
       "      <th>calls_count</th>\n",
       "      <th>call_duration</th>\n",
       "      <th>total_call_duration</th>\n",
       "    </tr>\n",
       "  </thead>\n",
       "  <tbody>\n",
       "    <tr>\n",
       "      <th>0</th>\n",
       "      <td>166377</td>\n",
       "      <td>2019-08-04 00:00:00+03:00</td>\n",
       "      <td>in</td>\n",
       "      <td>False</td>\n",
       "      <td>NaN</td>\n",
       "      <td>True</td>\n",
       "      <td>2</td>\n",
       "      <td>0</td>\n",
       "      <td>4</td>\n",
       "    </tr>\n",
       "    <tr>\n",
       "      <th>1</th>\n",
       "      <td>166377</td>\n",
       "      <td>2019-08-05 00:00:00+03:00</td>\n",
       "      <td>out</td>\n",
       "      <td>True</td>\n",
       "      <td>880022.0</td>\n",
       "      <td>True</td>\n",
       "      <td>3</td>\n",
       "      <td>0</td>\n",
       "      <td>5</td>\n",
       "    </tr>\n",
       "    <tr>\n",
       "      <th>2</th>\n",
       "      <td>166377</td>\n",
       "      <td>2019-08-05 00:00:00+03:00</td>\n",
       "      <td>out</td>\n",
       "      <td>True</td>\n",
       "      <td>880020.0</td>\n",
       "      <td>True</td>\n",
       "      <td>1</td>\n",
       "      <td>0</td>\n",
       "      <td>1</td>\n",
       "    </tr>\n",
       "    <tr>\n",
       "      <th>3</th>\n",
       "      <td>166377</td>\n",
       "      <td>2019-08-05 00:00:00+03:00</td>\n",
       "      <td>out</td>\n",
       "      <td>True</td>\n",
       "      <td>880020.0</td>\n",
       "      <td>False</td>\n",
       "      <td>1</td>\n",
       "      <td>10</td>\n",
       "      <td>18</td>\n",
       "    </tr>\n",
       "    <tr>\n",
       "      <th>4</th>\n",
       "      <td>166377</td>\n",
       "      <td>2019-08-05 00:00:00+03:00</td>\n",
       "      <td>out</td>\n",
       "      <td>False</td>\n",
       "      <td>880022.0</td>\n",
       "      <td>True</td>\n",
       "      <td>3</td>\n",
       "      <td>0</td>\n",
       "      <td>25</td>\n",
       "    </tr>\n",
       "  </tbody>\n",
       "</table>\n",
       "</div>"
      ],
      "text/plain": [
       "   user_id                       date direction internal  operator_id  \\\n",
       "0   166377  2019-08-04 00:00:00+03:00        in    False          NaN   \n",
       "1   166377  2019-08-05 00:00:00+03:00       out     True     880022.0   \n",
       "2   166377  2019-08-05 00:00:00+03:00       out     True     880020.0   \n",
       "3   166377  2019-08-05 00:00:00+03:00       out     True     880020.0   \n",
       "4   166377  2019-08-05 00:00:00+03:00       out    False     880022.0   \n",
       "\n",
       "   is_missed_call  calls_count  call_duration  total_call_duration  \n",
       "0            True            2              0                    4  \n",
       "1            True            3              0                    5  \n",
       "2            True            1              0                    1  \n",
       "3           False            1             10                   18  \n",
       "4            True            3              0                   25  "
      ]
     },
     "execution_count": 7,
     "metadata": {},
     "output_type": "execute_result"
    }
   ],
   "source": [
    "ds.head()"
   ]
  },
  {
   "cell_type": "markdown",
   "id": "32c8e727",
   "metadata": {},
   "source": [
    "Se completa el procedimiento satisfactoriamente."
   ]
  },
  {
   "cell_type": "markdown",
   "id": "0781fba4",
   "metadata": {},
   "source": [
    "Contamos con muchas mas columnas y filas en este dataset , en el tema de las filas es perfectamente normal dado que una persona puede llamar varias veces , user_id se cambiara a object , el date a fecha , operator id a entero , las demas columnas se mantendran igual , hay una posibilidad de eliminar los faltantes de la columna operator_id pero hay que estudiarlo bien."
   ]
  },
  {
   "cell_type": "markdown",
   "id": "e9862ba9",
   "metadata": {},
   "source": [
    "### Ajustes Dtype"
   ]
  },
  {
   "cell_type": "code",
   "execution_count": 8,
   "id": "a5d67c61",
   "metadata": {},
   "outputs": [
    {
     "name": "stdout",
     "output_type": "stream",
     "text": [
      "Columna 'user_id' convertida a object (string).\n",
      "columna 'date_start' convertida a datetime.\n",
      "<class 'pandas.core.frame.DataFrame'>\n",
      "RangeIndex: 732 entries, 0 to 731\n",
      "Data columns (total 3 columns):\n",
      " #   Column       Non-Null Count  Dtype         \n",
      "---  ------       --------------  -----         \n",
      " 0   user_id      732 non-null    object        \n",
      " 1   tariff_plan  732 non-null    object        \n",
      " 2   date_start   732 non-null    datetime64[ns]\n",
      "dtypes: datetime64[ns](1), object(2)\n",
      "memory usage: 17.3+ KB\n"
     ]
    }
   ],
   "source": [
    "cambiar_tipo(client)"
   ]
  },
  {
   "cell_type": "markdown",
   "id": "aa255728",
   "metadata": {},
   "source": [
    "Se aplica la función obteniendo los cambios pertinentes y verificando que se hayan dado correctamente."
   ]
  },
  {
   "cell_type": "code",
   "execution_count": 9,
   "id": "59588b0d",
   "metadata": {},
   "outputs": [
    {
     "name": "stdout",
     "output_type": "stream",
     "text": [
      "Columna 'user_id' convertida a object (string).\n",
      "columna 'date' convertida a datetime.\n",
      "Columna 'operator_id' convertida a object (string).\n",
      "<class 'pandas.core.frame.DataFrame'>\n",
      "RangeIndex: 53902 entries, 0 to 53901\n",
      "Data columns (total 9 columns):\n",
      " #   Column               Non-Null Count  Dtype                    \n",
      "---  ------               --------------  -----                    \n",
      " 0   user_id              53902 non-null  object                   \n",
      " 1   date                 53902 non-null  datetime64[ns, UTC+03:00]\n",
      " 2   direction            53902 non-null  object                   \n",
      " 3   internal             53785 non-null  object                   \n",
      " 4   operator_id          45730 non-null  object                   \n",
      " 5   is_missed_call       53902 non-null  bool                     \n",
      " 6   calls_count          53902 non-null  int64                    \n",
      " 7   call_duration        53902 non-null  int64                    \n",
      " 8   total_call_duration  53902 non-null  int64                    \n",
      "dtypes: bool(1), datetime64[ns, UTC+03:00](1), int64(3), object(4)\n",
      "memory usage: 3.3+ MB\n"
     ]
    }
   ],
   "source": [
    "cambiar_tipo(ds)"
   ]
  },
  {
   "cell_type": "markdown",
   "id": "aee75c1e",
   "metadata": {},
   "source": [
    "Se repite el proceso verificando que la funcion aplique los cambios de manera optima."
   ]
  },
  {
   "cell_type": "markdown",
   "id": "8864f32e",
   "metadata": {},
   "source": [
    "### Manejo Valores Nulos"
   ]
  },
  {
   "cell_type": "code",
   "execution_count": 10,
   "id": "029d5290",
   "metadata": {},
   "outputs": [
    {
     "name": "stdout",
     "output_type": "stream",
     "text": [
      "La columna user_id no tiene valores nulos.\n",
      "La columna tariff_plan no tiene valores nulos.\n",
      "La columna date_start no tiene valores nulos.\n",
      "<class 'pandas.core.frame.DataFrame'>\n",
      "RangeIndex: 732 entries, 0 to 731\n",
      "Data columns (total 3 columns):\n",
      " #   Column       Non-Null Count  Dtype         \n",
      "---  ------       --------------  -----         \n",
      " 0   user_id      732 non-null    object        \n",
      " 1   tariff_plan  732 non-null    object        \n",
      " 2   date_start   732 non-null    datetime64[ns]\n",
      "dtypes: datetime64[ns](1), object(2)\n",
      "memory usage: 17.3+ KB\n"
     ]
    }
   ],
   "source": [
    "nulos_analisis(client)"
   ]
  },
  {
   "cell_type": "markdown",
   "id": "7bda772e",
   "metadata": {},
   "source": [
    "En el dataframe de clientes no se encuentran valores nulos ."
   ]
  },
  {
   "cell_type": "code",
   "execution_count": 11,
   "id": "53a493e0",
   "metadata": {},
   "outputs": [
    {
     "name": "stdout",
     "output_type": "stream",
     "text": [
      "La columna user_id no tiene valores nulos.\n",
      "La columna date no tiene valores nulos.\n",
      "La columna direction no tiene valores nulos.\n",
      "La cantidad de nulos para la columna internal es de 117,\n",
      " puedes usar la funcion eliminar_nulos!!!si lo consideras correcto,\n",
      "lo que representa un 0.22% del total de filas\n",
      "La cantidad de nulos para la columna operator_id es de 8172,\n",
      " puedes usar la funcion eliminar_nulos!!!si lo consideras correcto,\n",
      "lo que representa un 15.16% del total de filas\n",
      "La columna is_missed_call no tiene valores nulos.\n",
      "La columna calls_count no tiene valores nulos.\n",
      "La columna call_duration no tiene valores nulos.\n",
      "La columna total_call_duration no tiene valores nulos.\n",
      "<class 'pandas.core.frame.DataFrame'>\n",
      "RangeIndex: 53902 entries, 0 to 53901\n",
      "Data columns (total 9 columns):\n",
      " #   Column               Non-Null Count  Dtype                    \n",
      "---  ------               --------------  -----                    \n",
      " 0   user_id              53902 non-null  object                   \n",
      " 1   date                 53902 non-null  datetime64[ns, UTC+03:00]\n",
      " 2   direction            53902 non-null  object                   \n",
      " 3   internal             53785 non-null  object                   \n",
      " 4   operator_id          45730 non-null  object                   \n",
      " 5   is_missed_call       53902 non-null  bool                     \n",
      " 6   calls_count          53902 non-null  int64                    \n",
      " 7   call_duration        53902 non-null  int64                    \n",
      " 8   total_call_duration  53902 non-null  int64                    \n",
      "dtypes: bool(1), datetime64[ns, UTC+03:00](1), int64(3), object(4)\n",
      "memory usage: 3.3+ MB\n"
     ]
    }
   ],
   "source": [
    "nulos_analisis(ds)"
   ]
  },
  {
   "cell_type": "markdown",
   "id": "bfafe4e1",
   "metadata": {},
   "source": [
    "Analizando los valores nulos en cuanto a la columna de internal al representar un porcentaje tan bajo se van a retirar del dataframe , en el caso de operator_id se realizara lo mismo dado que el fin de este analisis es encontrar los operadores ineficazes y sin su id es imposible rastrear el mismo , por tanto se van a eliminar pero se enviara un reporte a marketing dado que es imperativo que se agregue el operator_id para no generar desviaciones."
   ]
  },
  {
   "cell_type": "code",
   "execution_count": 12,
   "id": "a2d4e499",
   "metadata": {},
   "outputs": [
    {
     "name": "stdout",
     "output_type": "stream",
     "text": [
      "Se eliminaron las filas con nulos en las columnas: ['operator_id', 'internal']\n"
     ]
    }
   ],
   "source": [
    "eliminar_nulos(ds,['operator_id' , 'internal'])"
   ]
  },
  {
   "cell_type": "markdown",
   "id": "b0c9f06e",
   "metadata": {},
   "source": [
    "Se eliminan los nulos y se verifica."
   ]
  },
  {
   "cell_type": "markdown",
   "id": "748a41cc",
   "metadata": {},
   "source": [
    "### Analisis duplicados"
   ]
  },
  {
   "cell_type": "code",
   "execution_count": 13,
   "id": "a419b434",
   "metadata": {},
   "outputs": [
    {
     "name": "stdout",
     "output_type": "stream",
     "text": [
      "No hay filas duplicadas en el DataFrame.\n",
      "<class 'pandas.core.frame.DataFrame'>\n",
      "RangeIndex: 732 entries, 0 to 731\n",
      "Data columns (total 3 columns):\n",
      " #   Column       Non-Null Count  Dtype         \n",
      "---  ------       --------------  -----         \n",
      " 0   user_id      732 non-null    object        \n",
      " 1   tariff_plan  732 non-null    object        \n",
      " 2   date_start   732 non-null    datetime64[ns]\n",
      "dtypes: datetime64[ns](1), object(2)\n",
      "memory usage: 17.3+ KB\n"
     ]
    }
   ],
   "source": [
    "analisis_duplicados(client)"
   ]
  },
  {
   "cell_type": "markdown",
   "id": "bded3dc0",
   "metadata": {},
   "source": [
    "El dataframe de clientes no tiene filas duplicadas."
   ]
  },
  {
   "cell_type": "code",
   "execution_count": 14,
   "id": "e81861c3",
   "metadata": {},
   "outputs": [
    {
     "name": "stdout",
     "output_type": "stream",
     "text": [
      "Hay 4179 filas duplicadas.\n",
      "El porcentaje de filas duplicadas es: 9.15%\n",
      "\n",
      "\n",
      "<class 'pandas.core.frame.DataFrame'>\n",
      "Index: 45670 entries, 1 to 53900\n",
      "Data columns (total 9 columns):\n",
      " #   Column               Non-Null Count  Dtype                    \n",
      "---  ------               --------------  -----                    \n",
      " 0   user_id              45670 non-null  object                   \n",
      " 1   date                 45670 non-null  datetime64[ns, UTC+03:00]\n",
      " 2   direction            45670 non-null  object                   \n",
      " 3   internal             45670 non-null  object                   \n",
      " 4   operator_id          45670 non-null  object                   \n",
      " 5   is_missed_call       45670 non-null  bool                     \n",
      " 6   calls_count          45670 non-null  int64                    \n",
      " 7   call_duration        45670 non-null  int64                    \n",
      " 8   total_call_duration  45670 non-null  int64                    \n",
      "dtypes: bool(1), datetime64[ns, UTC+03:00](1), int64(3), object(4)\n",
      "memory usage: 3.2+ MB\n"
     ]
    }
   ],
   "source": [
    "analisis_duplicados(ds)"
   ]
  },
  {
   "cell_type": "markdown",
   "id": "b892e548",
   "metadata": {},
   "source": [
    "Inspeccionando el tema de duplicados llama la atencion la cantidad de los mismos se ratificia que son errores dado la fecha y hora es exacta ademas de la informacion de las demas columnas por tanto se toma la decision de eliminar estas filas duplicadas."
   ]
  },
  {
   "cell_type": "code",
   "execution_count": 15,
   "id": "10c0467b",
   "metadata": {},
   "outputs": [
    {
     "name": "stdout",
     "output_type": "stream",
     "text": [
      "<class 'pandas.core.frame.DataFrame'>\n",
      "Index: 41491 entries, 1 to 53899\n",
      "Data columns (total 9 columns):\n",
      " #   Column               Non-Null Count  Dtype                    \n",
      "---  ------               --------------  -----                    \n",
      " 0   user_id              41491 non-null  object                   \n",
      " 1   date                 41491 non-null  datetime64[ns, UTC+03:00]\n",
      " 2   direction            41491 non-null  object                   \n",
      " 3   internal             41491 non-null  object                   \n",
      " 4   operator_id          41491 non-null  object                   \n",
      " 5   is_missed_call       41491 non-null  bool                     \n",
      " 6   calls_count          41491 non-null  int64                    \n",
      " 7   call_duration        41491 non-null  int64                    \n",
      " 8   total_call_duration  41491 non-null  int64                    \n",
      "dtypes: bool(1), datetime64[ns, UTC+03:00](1), int64(3), object(4)\n",
      "memory usage: 2.9+ MB\n"
     ]
    }
   ],
   "source": [
    "ds = ds.drop_duplicates()\n",
    "ds.info()"
   ]
  },
  {
   "cell_type": "markdown",
   "id": "5d80e86c",
   "metadata": {},
   "source": [
    "Se eliminan los duplicados y se revisa que los cambios se mantengan"
   ]
  },
  {
   "cell_type": "code",
   "execution_count": 16,
   "id": "8ab61eb7",
   "metadata": {},
   "outputs": [],
   "source": [
    "ds['waiting_time'] = ds['total_call_duration']-ds['call_duration'] "
   ]
  },
  {
   "cell_type": "markdown",
   "id": "9e5b23ca",
   "metadata": {},
   "source": [
    "Dado que es un parametro necesario para el analisis se calcula el tiempo de espera y se agrega al df original de manera manual."
   ]
  },
  {
   "cell_type": "markdown",
   "id": "f15797a8",
   "metadata": {},
   "source": [
    "## Identificacion operadores ineficacez"
   ]
  },
  {
   "cell_type": "markdown",
   "id": "ba6d78fd",
   "metadata": {},
   "source": [
    "### Se considera que un operador es ineficaz si tiene una gran cantidad de llamadas entrantes perdidas (internas y externas)."
   ]
  },
  {
   "cell_type": "code",
   "execution_count": 17,
   "id": "4e4928ca",
   "metadata": {},
   "outputs": [
    {
     "data": {
      "text/html": [
       "<div>\n",
       "<style scoped>\n",
       "    .dataframe tbody tr th:only-of-type {\n",
       "        vertical-align: middle;\n",
       "    }\n",
       "\n",
       "    .dataframe tbody tr th {\n",
       "        vertical-align: top;\n",
       "    }\n",
       "\n",
       "    .dataframe thead th {\n",
       "        text-align: right;\n",
       "    }\n",
       "</style>\n",
       "<table border=\"1\" class=\"dataframe\">\n",
       "  <thead>\n",
       "    <tr style=\"text-align: right;\">\n",
       "      <th></th>\n",
       "      <th>operator_id</th>\n",
       "      <th>total_perdidas</th>\n",
       "    </tr>\n",
       "  </thead>\n",
       "  <tbody>\n",
       "    <tr>\n",
       "      <th>63</th>\n",
       "      <td>891410.0</td>\n",
       "      <td>119</td>\n",
       "    </tr>\n",
       "    <tr>\n",
       "      <th>24</th>\n",
       "      <td>885876.0</td>\n",
       "      <td>115</td>\n",
       "    </tr>\n",
       "    <tr>\n",
       "      <th>64</th>\n",
       "      <td>891414.0</td>\n",
       "      <td>113</td>\n",
       "    </tr>\n",
       "    <tr>\n",
       "      <th>166</th>\n",
       "      <td>901880.0</td>\n",
       "      <td>111</td>\n",
       "    </tr>\n",
       "    <tr>\n",
       "      <th>89</th>\n",
       "      <td>893804.0</td>\n",
       "      <td>110</td>\n",
       "    </tr>\n",
       "    <tr>\n",
       "      <th>...</th>\n",
       "      <td>...</td>\n",
       "      <td>...</td>\n",
       "    </tr>\n",
       "    <tr>\n",
       "      <th>17</th>\n",
       "      <td>884402.0</td>\n",
       "      <td>1</td>\n",
       "    </tr>\n",
       "    <tr>\n",
       "      <th>875</th>\n",
       "      <td>973120.0</td>\n",
       "      <td>1</td>\n",
       "    </tr>\n",
       "    <tr>\n",
       "      <th>864</th>\n",
       "      <td>970244.0</td>\n",
       "      <td>1</td>\n",
       "    </tr>\n",
       "    <tr>\n",
       "      <th>200</th>\n",
       "      <td>905308.0</td>\n",
       "      <td>1</td>\n",
       "    </tr>\n",
       "    <tr>\n",
       "      <th>274</th>\n",
       "      <td>910540.0</td>\n",
       "      <td>1</td>\n",
       "    </tr>\n",
       "  </tbody>\n",
       "</table>\n",
       "<p>876 rows × 2 columns</p>\n",
       "</div>"
      ],
      "text/plain": [
       "    operator_id  total_perdidas\n",
       "63     891410.0             119\n",
       "24     885876.0             115\n",
       "64     891414.0             113\n",
       "166    901880.0             111\n",
       "89     893804.0             110\n",
       "..          ...             ...\n",
       "17     884402.0               1\n",
       "875    973120.0               1\n",
       "864    970244.0               1\n",
       "200    905308.0               1\n",
       "274    910540.0               1\n",
       "\n",
       "[876 rows x 2 columns]"
      ]
     },
     "execution_count": 17,
     "metadata": {},
     "output_type": "execute_result"
    }
   ],
   "source": [
    "i_perdidas = agrup_condicion(ds,'is_missed_call',True,'is_missed_call','count','operator_id')\n",
    "i_perdidas.columns=(['operator_id','total_perdidas'])\n",
    "i_perdidas"
   ]
  },
  {
   "cell_type": "markdown",
   "id": "8702271d",
   "metadata": {},
   "source": [
    "Mediante la funcion de grupar bajo 2 condiciones se filtran las llamadas perdidas , y con una funcion de agregacion se cuenta la cantidad de las mimsas esto agrupandolas por operador."
   ]
  },
  {
   "cell_type": "markdown",
   "id": "f1c00dc0",
   "metadata": {},
   "source": [
    "###  Se considera que un operador es ineficaz si tiene un tiempo de espera prolongado para las llamadas entrantes"
   ]
  },
  {
   "cell_type": "code",
   "execution_count": 18,
   "id": "eb88c09f",
   "metadata": {},
   "outputs": [
    {
     "data": {
      "text/html": [
       "<div>\n",
       "<style scoped>\n",
       "    .dataframe tbody tr th:only-of-type {\n",
       "        vertical-align: middle;\n",
       "    }\n",
       "\n",
       "    .dataframe tbody tr th {\n",
       "        vertical-align: top;\n",
       "    }\n",
       "\n",
       "    .dataframe thead th {\n",
       "        text-align: right;\n",
       "    }\n",
       "</style>\n",
       "<table border=\"1\" class=\"dataframe\">\n",
       "  <thead>\n",
       "    <tr style=\"text-align: right;\">\n",
       "      <th></th>\n",
       "      <th>operator_id</th>\n",
       "      <th>promedio_tiempo_espera</th>\n",
       "    </tr>\n",
       "  </thead>\n",
       "  <tbody>\n",
       "    <tr>\n",
       "      <th>337</th>\n",
       "      <td>919794.0</td>\n",
       "      <td>1007.375000</td>\n",
       "    </tr>\n",
       "    <tr>\n",
       "      <th>335</th>\n",
       "      <td>919790.0</td>\n",
       "      <td>894.830508</td>\n",
       "    </tr>\n",
       "    <tr>\n",
       "      <th>206</th>\n",
       "      <td>906070.0</td>\n",
       "      <td>889.800000</td>\n",
       "    </tr>\n",
       "    <tr>\n",
       "      <th>445</th>\n",
       "      <td>931458.0</td>\n",
       "      <td>708.840000</td>\n",
       "    </tr>\n",
       "    <tr>\n",
       "      <th>358</th>\n",
       "      <td>921318.0</td>\n",
       "      <td>663.058824</td>\n",
       "    </tr>\n",
       "    <tr>\n",
       "      <th>...</th>\n",
       "      <td>...</td>\n",
       "      <td>...</td>\n",
       "    </tr>\n",
       "    <tr>\n",
       "      <th>404</th>\n",
       "      <td>926872.0</td>\n",
       "      <td>1.461538</td>\n",
       "    </tr>\n",
       "    <tr>\n",
       "      <th>677</th>\n",
       "      <td>952982.0</td>\n",
       "      <td>1.166667</td>\n",
       "    </tr>\n",
       "    <tr>\n",
       "      <th>636</th>\n",
       "      <td>948282.0</td>\n",
       "      <td>1.000000</td>\n",
       "    </tr>\n",
       "    <tr>\n",
       "      <th>644</th>\n",
       "      <td>949420.0</td>\n",
       "      <td>1.000000</td>\n",
       "    </tr>\n",
       "    <tr>\n",
       "      <th>675</th>\n",
       "      <td>952954.0</td>\n",
       "      <td>1.000000</td>\n",
       "    </tr>\n",
       "  </tbody>\n",
       "</table>\n",
       "<p>754 rows × 2 columns</p>\n",
       "</div>"
      ],
      "text/plain": [
       "    operator_id  promedio_tiempo_espera\n",
       "337    919794.0             1007.375000\n",
       "335    919790.0              894.830508\n",
       "206    906070.0              889.800000\n",
       "445    931458.0              708.840000\n",
       "358    921318.0              663.058824\n",
       "..          ...                     ...\n",
       "404    926872.0                1.461538\n",
       "677    952982.0                1.166667\n",
       "636    948282.0                1.000000\n",
       "644    949420.0                1.000000\n",
       "675    952954.0                1.000000\n",
       "\n",
       "[754 rows x 2 columns]"
      ]
     },
     "execution_count": 18,
     "metadata": {},
     "output_type": "execute_result"
    }
   ],
   "source": [
    "i_espera = agrup_condicion(ds,\"direction\",\"in\",\"waiting_time\",\"mean\",\"operator_id\")\n",
    "i_espera.columns=(['operator_id','promedio_tiempo_espera'])\n",
    "i_espera"
   ]
  },
  {
   "cell_type": "markdown",
   "id": "d45b06a3",
   "metadata": {},
   "source": [
    "Se repite el uso de la funcion de agrupacion en este caso se toman las llamadas que entran y se evalua el tiempo promedio que tiene de espera la llamada esto agrupado por cada operador."
   ]
  },
  {
   "cell_type": "markdown",
   "id": "dd52f5a7",
   "metadata": {},
   "source": [
    "### Se considera  que un operador debe realizar llamadas salientes, un número reducido de ellas también será un signo de ineficacia."
   ]
  },
  {
   "cell_type": "code",
   "execution_count": 19,
   "id": "fa0e73af",
   "metadata": {},
   "outputs": [
    {
     "data": {
      "text/html": [
       "<div>\n",
       "<style scoped>\n",
       "    .dataframe tbody tr th:only-of-type {\n",
       "        vertical-align: middle;\n",
       "    }\n",
       "\n",
       "    .dataframe tbody tr th {\n",
       "        vertical-align: top;\n",
       "    }\n",
       "\n",
       "    .dataframe thead th {\n",
       "        text-align: right;\n",
       "    }\n",
       "</style>\n",
       "<table border=\"1\" class=\"dataframe\">\n",
       "  <thead>\n",
       "    <tr style=\"text-align: right;\">\n",
       "      <th></th>\n",
       "      <th>operator_id</th>\n",
       "      <th>total_salientes</th>\n",
       "    </tr>\n",
       "  </thead>\n",
       "  <tbody>\n",
       "    <tr>\n",
       "      <th>8</th>\n",
       "      <td>882478.0</td>\n",
       "      <td>1</td>\n",
       "    </tr>\n",
       "    <tr>\n",
       "      <th>13</th>\n",
       "      <td>883018.0</td>\n",
       "      <td>1</td>\n",
       "    </tr>\n",
       "    <tr>\n",
       "      <th>14</th>\n",
       "      <td>883898.0</td>\n",
       "      <td>1</td>\n",
       "    </tr>\n",
       "    <tr>\n",
       "      <th>874</th>\n",
       "      <td>970258.0</td>\n",
       "      <td>1</td>\n",
       "    </tr>\n",
       "    <tr>\n",
       "      <th>833</th>\n",
       "      <td>960674.0</td>\n",
       "      <td>1</td>\n",
       "    </tr>\n",
       "    <tr>\n",
       "      <th>...</th>\n",
       "      <td>...</td>\n",
       "      <td>...</td>\n",
       "    </tr>\n",
       "    <tr>\n",
       "      <th>201</th>\n",
       "      <td>905538.0</td>\n",
       "      <td>191</td>\n",
       "    </tr>\n",
       "    <tr>\n",
       "      <th>24</th>\n",
       "      <td>885876.0</td>\n",
       "      <td>193</td>\n",
       "    </tr>\n",
       "    <tr>\n",
       "      <th>163</th>\n",
       "      <td>901880.0</td>\n",
       "      <td>194</td>\n",
       "    </tr>\n",
       "    <tr>\n",
       "      <th>27</th>\n",
       "      <td>887276.0</td>\n",
       "      <td>198</td>\n",
       "    </tr>\n",
       "    <tr>\n",
       "      <th>164</th>\n",
       "      <td>901884.0</td>\n",
       "      <td>228</td>\n",
       "    </tr>\n",
       "  </tbody>\n",
       "</table>\n",
       "<p>882 rows × 2 columns</p>\n",
       "</div>"
      ],
      "text/plain": [
       "    operator_id  total_salientes\n",
       "8      882478.0                1\n",
       "13     883018.0                1\n",
       "14     883898.0                1\n",
       "874    970258.0                1\n",
       "833    960674.0                1\n",
       "..          ...              ...\n",
       "201    905538.0              191\n",
       "24     885876.0              193\n",
       "163    901880.0              194\n",
       "27     887276.0              198\n",
       "164    901884.0              228\n",
       "\n",
       "[882 rows x 2 columns]"
      ]
     },
     "execution_count": 19,
     "metadata": {},
     "output_type": "execute_result"
    }
   ],
   "source": [
    "i_saliente = agrup_condicion(ds,\"direction\",\"out\",\"user_id\",\"count\",\"operator_id\")\n",
    "i_saliente.columns=(['operator_id','total_salientes'])\n",
    "i_saliente = i_saliente.sort_values(by='total_salientes')\n",
    "i_saliente"
   ]
  },
  {
   "cell_type": "markdown",
   "id": "0a7dd45d",
   "metadata": {},
   "source": [
    "Por ultimo se evaluan los operadores con pocas llamadas salientes agrupando por operador , bajo la condicion de llamada de salida y contando las llamadas hechas."
   ]
  },
  {
   "cell_type": "markdown",
   "id": "07f547ca",
   "metadata": {},
   "source": [
    "### Operadores a deshabilitar"
   ]
  },
  {
   "cell_type": "code",
   "execution_count": 20,
   "id": "e3d4b8bf",
   "metadata": {},
   "outputs": [
    {
     "name": "stdout",
     "output_type": "stream",
     "text": [
      "\n",
      "La cantidad de operadores ineficaces que se recomienda eliminar es de 44, equivalentes al 7.76% \n",
      "y son los siguientes: ['891410.0', '885876.0', '891414.0', '893804.0', '885890.0', '906406.0', '921818.0', '921318.0', '913942.0', '931458.0', '938896.0', '906404.0', '913938.0', '939762.0', '952948.0', '944220.0', '908958.0', '944226.0', '944216.0', '944218.0', '951508.0', '954650.0', '882690.0', '940588.0', '939370.0', '906408.0', '958460.0', '940630.0', '919554.0', '938414.0', '969272.0', '906070.0', '919552.0', '954750.0', '919204.0', '919792.0', '919206.0', '919164.0', '944210.0', '919166.0', '919790.0', '882688.0', '919794.0', '906076.0']\n"
     ]
    },
    {
     "data": {
      "image/png": "[encoded data removed]",
      "text/plain": [
       "<Figure size 1000x600 with 1 Axes>"
      ]
     },
     "metadata": {},
     "output_type": "display_data"
    }
   ],
   "source": [
    "o_deshabilitar = identificar_operadores_a_deshabilitar(i_perdidas,i_espera,i_saliente,0.4)\n"
   ]
  },
  {
   "cell_type": "markdown",
   "id": "02d2701e",
   "metadata": {},
   "source": [
    "Una vez se tenian los tres parametros demarcados para considerar que un operador es ineficaz se llama la funcion #identificar_operadores_a_deshabilitar# , en la cual se toman las viarables de llamadas entrantes perdidas y tiempo prolongado de espera de llamda , se normaliza la metrica mediante la funcion de la libreria scikit-learn  (MinMaxScaler) y se unen los dos dataframes , para el tema de las llamadas salientes hay que cambiar el enfoque dado que en este caso los ineficacez son los que menor cantidad de veces cumpplen con la condicion se tiene esto en cuenta , se normaliza y se unen los 3 dataframes , posterior a esto se establece el umbral que va a definir teniendo en cuenta la distribucion de los parametros que operadores se consideran ineficacez , en este caso se maneja un mismo nivel de ponderacion para los tres casos la grafica representa visualemente en que zona se encuentran los operadores a eliminar y la funcion misma arroja la cantidad de los mismos."
   ]
  },
  {
   "cell_type": "code",
   "execution_count": 21,
   "id": "bc27528f",
   "metadata": {},
   "outputs": [
    {
     "name": "stdout",
     "output_type": "stream",
     "text": [
      "Operadores originales: 1092\n",
      "Operadores actualizados: 1048\n"
     ]
    },
    {
     "data": {
      "text/html": [
       "<div>\n",
       "<style scoped>\n",
       "    .dataframe tbody tr th:only-of-type {\n",
       "        vertical-align: middle;\n",
       "    }\n",
       "\n",
       "    .dataframe tbody tr th {\n",
       "        vertical-align: top;\n",
       "    }\n",
       "\n",
       "    .dataframe thead th {\n",
       "        text-align: right;\n",
       "    }\n",
       "</style>\n",
       "<table border=\"1\" class=\"dataframe\">\n",
       "  <thead>\n",
       "    <tr style=\"text-align: right;\">\n",
       "      <th></th>\n",
       "      <th>user_id</th>\n",
       "      <th>date</th>\n",
       "      <th>direction</th>\n",
       "      <th>internal</th>\n",
       "      <th>operator_id</th>\n",
       "      <th>is_missed_call</th>\n",
       "      <th>calls_count</th>\n",
       "      <th>call_duration</th>\n",
       "      <th>total_call_duration</th>\n",
       "      <th>waiting_time</th>\n",
       "    </tr>\n",
       "  </thead>\n",
       "  <tbody>\n",
       "    <tr>\n",
       "      <th>1</th>\n",
       "      <td>166377</td>\n",
       "      <td>2019-08-05 00:00:00+03:00</td>\n",
       "      <td>out</td>\n",
       "      <td>True</td>\n",
       "      <td>880022.0</td>\n",
       "      <td>True</td>\n",
       "      <td>3</td>\n",
       "      <td>0</td>\n",
       "      <td>5</td>\n",
       "      <td>5</td>\n",
       "    </tr>\n",
       "    <tr>\n",
       "      <th>2</th>\n",
       "      <td>166377</td>\n",
       "      <td>2019-08-05 00:00:00+03:00</td>\n",
       "      <td>out</td>\n",
       "      <td>True</td>\n",
       "      <td>880020.0</td>\n",
       "      <td>True</td>\n",
       "      <td>1</td>\n",
       "      <td>0</td>\n",
       "      <td>1</td>\n",
       "      <td>1</td>\n",
       "    </tr>\n",
       "    <tr>\n",
       "      <th>3</th>\n",
       "      <td>166377</td>\n",
       "      <td>2019-08-05 00:00:00+03:00</td>\n",
       "      <td>out</td>\n",
       "      <td>True</td>\n",
       "      <td>880020.0</td>\n",
       "      <td>False</td>\n",
       "      <td>1</td>\n",
       "      <td>10</td>\n",
       "      <td>18</td>\n",
       "      <td>8</td>\n",
       "    </tr>\n",
       "    <tr>\n",
       "      <th>4</th>\n",
       "      <td>166377</td>\n",
       "      <td>2019-08-05 00:00:00+03:00</td>\n",
       "      <td>out</td>\n",
       "      <td>False</td>\n",
       "      <td>880022.0</td>\n",
       "      <td>True</td>\n",
       "      <td>3</td>\n",
       "      <td>0</td>\n",
       "      <td>25</td>\n",
       "      <td>25</td>\n",
       "    </tr>\n",
       "    <tr>\n",
       "      <th>5</th>\n",
       "      <td>166377</td>\n",
       "      <td>2019-08-05 00:00:00+03:00</td>\n",
       "      <td>out</td>\n",
       "      <td>False</td>\n",
       "      <td>880020.0</td>\n",
       "      <td>False</td>\n",
       "      <td>2</td>\n",
       "      <td>3</td>\n",
       "      <td>29</td>\n",
       "      <td>26</td>\n",
       "    </tr>\n",
       "    <tr>\n",
       "      <th>6</th>\n",
       "      <td>166377</td>\n",
       "      <td>2019-08-05 00:00:00+03:00</td>\n",
       "      <td>out</td>\n",
       "      <td>False</td>\n",
       "      <td>880020.0</td>\n",
       "      <td>True</td>\n",
       "      <td>8</td>\n",
       "      <td>0</td>\n",
       "      <td>50</td>\n",
       "      <td>50</td>\n",
       "    </tr>\n",
       "    <tr>\n",
       "      <th>10</th>\n",
       "      <td>166377</td>\n",
       "      <td>2019-08-06 00:00:00+03:00</td>\n",
       "      <td>out</td>\n",
       "      <td>False</td>\n",
       "      <td>881278.0</td>\n",
       "      <td>True</td>\n",
       "      <td>3</td>\n",
       "      <td>0</td>\n",
       "      <td>29</td>\n",
       "      <td>29</td>\n",
       "    </tr>\n",
       "    <tr>\n",
       "      <th>11</th>\n",
       "      <td>166377</td>\n",
       "      <td>2019-08-06 00:00:00+03:00</td>\n",
       "      <td>out</td>\n",
       "      <td>False</td>\n",
       "      <td>880020.0</td>\n",
       "      <td>True</td>\n",
       "      <td>5</td>\n",
       "      <td>0</td>\n",
       "      <td>70</td>\n",
       "      <td>70</td>\n",
       "    </tr>\n",
       "    <tr>\n",
       "      <th>12</th>\n",
       "      <td>166377</td>\n",
       "      <td>2019-08-06 00:00:00+03:00</td>\n",
       "      <td>out</td>\n",
       "      <td>True</td>\n",
       "      <td>881278.0</td>\n",
       "      <td>True</td>\n",
       "      <td>2</td>\n",
       "      <td>0</td>\n",
       "      <td>5</td>\n",
       "      <td>5</td>\n",
       "    </tr>\n",
       "    <tr>\n",
       "      <th>13</th>\n",
       "      <td>166377</td>\n",
       "      <td>2019-08-06 00:00:00+03:00</td>\n",
       "      <td>out</td>\n",
       "      <td>False</td>\n",
       "      <td>880020.0</td>\n",
       "      <td>False</td>\n",
       "      <td>5</td>\n",
       "      <td>800</td>\n",
       "      <td>819</td>\n",
       "      <td>19</td>\n",
       "    </tr>\n",
       "  </tbody>\n",
       "</table>\n",
       "</div>"
      ],
      "text/plain": [
       "   user_id                      date direction internal operator_id  \\\n",
       "1   166377 2019-08-05 00:00:00+03:00       out     True    880022.0   \n",
       "2   166377 2019-08-05 00:00:00+03:00       out     True    880020.0   \n",
       "3   166377 2019-08-05 00:00:00+03:00       out     True    880020.0   \n",
       "4   166377 2019-08-05 00:00:00+03:00       out    False    880022.0   \n",
       "5   166377 2019-08-05 00:00:00+03:00       out    False    880020.0   \n",
       "6   166377 2019-08-05 00:00:00+03:00       out    False    880020.0   \n",
       "10  166377 2019-08-06 00:00:00+03:00       out    False    881278.0   \n",
       "11  166377 2019-08-06 00:00:00+03:00       out    False    880020.0   \n",
       "12  166377 2019-08-06 00:00:00+03:00       out     True    881278.0   \n",
       "13  166377 2019-08-06 00:00:00+03:00       out    False    880020.0   \n",
       "\n",
       "    is_missed_call  calls_count  call_duration  total_call_duration  \\\n",
       "1             True            3              0                    5   \n",
       "2             True            1              0                    1   \n",
       "3            False            1             10                   18   \n",
       "4             True            3              0                   25   \n",
       "5            False            2              3                   29   \n",
       "6             True            8              0                   50   \n",
       "10            True            3              0                   29   \n",
       "11            True            5              0                   70   \n",
       "12            True            2              0                    5   \n",
       "13           False            5            800                  819   \n",
       "\n",
       "    waiting_time  \n",
       "1              5  \n",
       "2              1  \n",
       "3              8  \n",
       "4             25  \n",
       "5             26  \n",
       "6             50  \n",
       "10            29  \n",
       "11            70  \n",
       "12             5  \n",
       "13            19  "
      ]
     },
     "execution_count": 21,
     "metadata": {},
     "output_type": "execute_result"
    }
   ],
   "source": [
    "eliminar_operadores(ds,o_deshabilitar)"
   ]
  },
  {
   "cell_type": "markdown",
   "id": "275e9a87",
   "metadata": {},
   "source": [
    "Por ultimo haciendo uso de la funcion eliminar operadores , se eliminan de la base de datos original lo operadores a deshabilitar y la cantidad de los mismos reflejando cuantos habian inicalmente y cuantos quedaron posterior al analisis."
   ]
  },
  {
   "cell_type": "code",
   "execution_count": 22,
   "id": "40362c17",
   "metadata": {},
   "outputs": [
    {
     "name": "stdout",
     "output_type": "stream",
     "text": [
      "Archivo datasets/telecom_dataset_us_clean.xlsx creado exitosamente.\n"
     ]
    },
    {
     "data": {
      "text/plain": [
       "'datasets/telecom_dataset_us_clean.xlsx'"
      ]
     },
     "execution_count": 22,
     "metadata": {},
     "output_type": "execute_result"
    }
   ],
   "source": [
    "convertir_a_excel(ds,'datasets/telecom_dataset_us_clean.xlsx')"
   ]
  },
  {
   "cell_type": "markdown",
   "id": "f4fb663d",
   "metadata": {},
   "source": [
    "Se genera el dataset limpio en formato Excel."
   ]
  },
  {
   "cell_type": "markdown",
   "id": "dd0bc52e",
   "metadata": {},
   "source": []
  }
 ],
 "metadata": {
  "kernelspec": {
   "display_name": ".venv",
   "language": "python",
   "name": "python3"
  },
  "language_info": {
   "codemirror_mode": {
    "name": "ipython",
    "version": 3
   },
   "file_extension": ".py",
   "mimetype": "text/x-python",
   "name": "python",
   "nbconvert_exporter": "python",
   "pygments_lexer": "ipython3",
   "version": "3.12.3"
  }
 },
 "nbformat": 4,
 "nbformat_minor": 5
}
